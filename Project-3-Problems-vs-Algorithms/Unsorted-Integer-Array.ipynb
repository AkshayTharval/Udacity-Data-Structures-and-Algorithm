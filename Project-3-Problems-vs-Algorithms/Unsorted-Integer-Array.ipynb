{
 "cells": [
  {
   "cell_type": "code",
   "execution_count": 1,
   "metadata": {},
   "outputs": [],
   "source": [
    "# We keep a track of min and max while looping through all the numbers in the list\n",
    "\n",
    "def get_min_max(ints):\n",
    "    \"\"\"\n",
    "    Return a tuple(min, max) out of list of unsorted integers.\n",
    "\n",
    "    Args:\n",
    "       ints(list): list of integers containing one or more integers\n",
    "    \"\"\"\n",
    "    if len(ints) == 0:\n",
    "        return None\n",
    "    _max = 0\n",
    "    _min = 999999\n",
    "    \n",
    "    for num in ints:\n",
    "        if num > _max:\n",
    "            _max = num\n",
    "        \n",
    "        if num < _min:\n",
    "            _min = num\n",
    "    \n",
    "    return (_min, _max)"
   ]
  },
  {
   "cell_type": "code",
   "execution_count": 4,
   "metadata": {},
   "outputs": [
    {
     "name": "stdout",
     "output_type": "stream",
     "text": [
      "=============================== Udacity Examples ===============================\n",
      "=============================== Self Examples ===============================\n",
      "Pass\n",
      "Pass\n",
      "Pass\n",
      "=============================== Edge Case ===============================\n",
      "Pass\n"
     ]
    }
   ],
   "source": [
    "print('=============================== Udacity Examples ===============================')\n",
    "import random\n",
    "\n",
    "l = [i for i in range(0, 10)]  # a list containing 0 - 9\n",
    "random.shuffle(l)\n",
    "\n",
    "print('=============================== Self Examples ===============================')\n",
    "print (\"Pass\" if ((0, 9) == get_min_max(l)) else \"Fail\")\n",
    "print (\"Pass\" if ((1, 9) == get_min_max([1,3,5,2,6,7,1,9])) else \"Fail\")\n",
    "print (\"Pass\" if ((12, 99) == get_min_max([12,15,26,33,56,79,99])) else \"Fail\")\n",
    "\n",
    "print('=============================== Edge Case ===============================')\n",
    "\n",
    "print (\"Pass\" if (None == get_min_max([])) else \"Fail\")"
   ]
  }
 ],
 "metadata": {
  "kernelspec": {
   "display_name": "Python (tensorflow_gpu)",
   "language": "python",
   "name": "myenv"
  },
  "language_info": {
   "codemirror_mode": {
    "name": "ipython",
    "version": 3
   },
   "file_extension": ".py",
   "mimetype": "text/x-python",
   "name": "python",
   "nbconvert_exporter": "python",
   "pygments_lexer": "ipython3",
   "version": "3.6.8"
  }
 },
 "nbformat": 4,
 "nbformat_minor": 2
}
