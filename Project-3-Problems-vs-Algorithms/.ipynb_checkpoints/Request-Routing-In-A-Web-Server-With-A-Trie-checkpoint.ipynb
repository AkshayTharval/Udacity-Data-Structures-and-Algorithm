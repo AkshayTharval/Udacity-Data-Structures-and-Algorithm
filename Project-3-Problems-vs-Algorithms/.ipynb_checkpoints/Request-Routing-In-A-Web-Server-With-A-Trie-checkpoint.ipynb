{
 "cells": [
  {
   "cell_type": "code",
   "execution_count": 12,
   "metadata": {},
   "outputs": [],
   "source": [
    "# A RouteTrie will store our routes and their associated handlers\n",
    "class RouteTrie:\n",
    "    def __init__(self, handler):\n",
    "        # Initialize the trie with an root node and a handler, this is the root path or home page node\n",
    "        self.root = RouteTrieNode()\n",
    "        self.handler = handler\n",
    "\n",
    "    def insert(self, path, handler):\n",
    "        # Similar to our previous example you will want to recursively add nodes\n",
    "        # Make sure you assign the handler to only the leaf (deepest) node of this path\n",
    "        node = self.root\n",
    "\n",
    "        for block in path:\n",
    "            node.insert(block)\n",
    "            node = node.children[block]\n",
    "\n",
    "        node.handler = handler\n",
    "\n",
    "    def find(self, path):\n",
    "        # Starting at the root, navigate the Trie to find a match for this path\n",
    "        # Return the handler for a match, or None for no match\n",
    "        node = self.root\n",
    "\n",
    "        for block in path:\n",
    "            if block not in node.children:\n",
    "                return None\n",
    "            node = node.children[block]\n",
    "\n",
    "        return node.handler\n",
    "\n",
    "# A RouteTrieNode will be similar to our autocomplete TrieNode... with one additional element, a handler.\n",
    "class RouteTrieNode:\n",
    "    def __init__(self):\n",
    "        # Initialize the node with children as before, plus a handler\n",
    "        self.children = {}\n",
    "        self.handler = None\n",
    "\n",
    "    def insert(self, path):\n",
    "        # Insert the node as before\n",
    "        self.children[path] = RouteTrieNode()"
   ]
  },
  {
   "cell_type": "code",
   "execution_count": 13,
   "metadata": {},
   "outputs": [],
   "source": [
    "# The Router class will wrap the Trie and handle \n",
    "class Router:\n",
    "    def __init__(self, handler):\n",
    "        # Create a new RouteTrie for holding our routes\n",
    "        # You could also add a handler for 404 page not found responses as well!\n",
    "        self.router = RouteTrie(handler=handler)\n",
    "        self.error_handler = \"Error Handler: Handler not found, please enter a valid handler\"\n",
    "\n",
    "    def add_handler(self, input_path, handler):\n",
    "        # Add a handler for a path\n",
    "        # You will need to split the path and pass the pass parts\n",
    "        # as a list to the RouteTrie\n",
    "        path = self.split_path(input_path)\n",
    "        self.router.insert(path=path, handler=handler)\n",
    "\n",
    "    def lookup(self, input_path):\n",
    "        # lookup path (by parts) and return the associated handler\n",
    "        # you can return None if it's not found or\n",
    "        # return the \"not found\" handler if you added one\n",
    "        # bonus points if a path works with and without a trailing slash\n",
    "        # e.g. /about and /about/ both return the /about handler\n",
    "        path = self.split_path(input_path)\n",
    "\n",
    "        if len(path) == 0:\n",
    "            return self.router.handler\n",
    "        \n",
    "        output = self.router.find(path=path)\n",
    "        if output:\n",
    "            return output\n",
    "        else:\n",
    "            return self.error_handler\n",
    "        \n",
    "\n",
    "\n",
    "    def split_path(self, path):\n",
    "        # you need to split the path into parts for \n",
    "        # both the add_handler and loopup functions,\n",
    "        # so it should be placed in a function here\n",
    "        return [el for el in path.split('/') if el != '']"
   ]
  },
  {
   "cell_type": "code",
   "execution_count": 14,
   "metadata": {},
   "outputs": [
    {
     "name": "stdout",
     "output_type": "stream",
     "text": [
      "root handler\n",
      "Error Handler: Handler not found, please enter a valid handler\n",
      "about handler\n",
      "about handler\n",
      "Error Handler: Handler not found, please enter a valid handler\n"
     ]
    }
   ],
   "source": [
    "# Here are some test cases and expected outputs you can use to test your implementation\n",
    "\n",
    "# create the router and add a route\n",
    "router = Router(\"root handler\") # remove the 'not found handler' if you did not implement this\n",
    "router.add_handler(\"/home/about\", \"about handler\")  # add a route\n",
    "\n",
    "# some lookups with the expected output\n",
    "print(router.lookup(\"/\")) # should print 'root handler'\n",
    "print(router.lookup(\"/home\")) # should print 'not found handler' or None if you did not implement one\n",
    "print(router.lookup(\"/home/about\")) # should print 'about handler'\n",
    "print(router.lookup(\"/home/about/\")) # should print 'about handler' or None if you did not handle trailing slashes\n",
    "print(router.lookup(\"/home/about/me\")) # should print 'not found handler' or None if you did not implement one"
   ]
  },
  {
   "cell_type": "code",
   "execution_count": null,
   "metadata": {},
   "outputs": [],
   "source": []
  },
  {
   "cell_type": "code",
   "execution_count": null,
   "metadata": {},
   "outputs": [],
   "source": []
  },
  {
   "cell_type": "code",
   "execution_count": null,
   "metadata": {},
   "outputs": [],
   "source": []
  },
  {
   "cell_type": "code",
   "execution_count": null,
   "metadata": {},
   "outputs": [],
   "source": []
  },
  {
   "cell_type": "code",
   "execution_count": null,
   "metadata": {},
   "outputs": [],
   "source": []
  },
  {
   "cell_type": "code",
   "execution_count": null,
   "metadata": {},
   "outputs": [],
   "source": []
  },
  {
   "cell_type": "code",
   "execution_count": null,
   "metadata": {},
   "outputs": [],
   "source": []
  }
 ],
 "metadata": {
  "kernelspec": {
   "display_name": "Python (tensorflow_gpu)",
   "language": "python",
   "name": "myenv"
  },
  "language_info": {
   "codemirror_mode": {
    "name": "ipython",
    "version": 3
   },
   "file_extension": ".py",
   "mimetype": "text/x-python",
   "name": "python",
   "nbconvert_exporter": "python",
   "pygments_lexer": "ipython3",
   "version": "3.6.8"
  }
 },
 "nbformat": 4,
 "nbformat_minor": 2
}
