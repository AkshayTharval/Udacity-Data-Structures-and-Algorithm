{
 "cells": [
  {
   "cell_type": "code",
   "execution_count": 1,
   "metadata": {},
   "outputs": [],
   "source": [
    "# Here we simply keep a counter of number of 0s, 1s and 2s\n",
    "# Output list will contain the appropriate number of 0s, 1s and 2s\n",
    "# Since we are going throug the list only once, the complexity is O(n)\n",
    "def sort_012(input_list):\n",
    "    \"\"\"\n",
    "    Given an input array consisting on only 0, 1, and 2, sort the array in a single traversal.\n",
    "\n",
    "    Args:\n",
    "       input_list(list): List to be sorted\n",
    "    \"\"\"\n",
    "    \n",
    "    if len(input_list) == 0:\n",
    "        return None\n",
    "    \n",
    "    _zero = 0\n",
    "    _one = 0\n",
    "    _two = 0\n",
    "    \n",
    "    for num in input_list:\n",
    "        if num == 0:\n",
    "            _zero += 1\n",
    "        elif num == 1:\n",
    "            _one += 1\n",
    "        else:\n",
    "            _two += 1\n",
    "    \n",
    "    output = []\n",
    "    for i in range(0,_zero):\n",
    "        output.append(0)\n",
    "    \n",
    "    for j in range(0,_one):\n",
    "        output.append(1)\n",
    "    \n",
    "    for k in range(0,_two):\n",
    "        output.append(2)\n",
    "        \n",
    "    return output"
   ]
  },
  {
   "cell_type": "code",
   "execution_count": 3,
   "metadata": {},
   "outputs": [
    {
     "name": "stdout",
     "output_type": "stream",
     "text": [
      "================================= Normal Cases =================================\n",
      "[0, 0, 0, 1, 1, 1, 2, 2, 2, 2, 2]\n",
      "Pass\n",
      "[0, 0, 0, 0, 0, 0, 0, 0, 0, 0, 0, 1, 1, 1, 1, 1, 1, 2, 2, 2, 2, 2, 2, 2, 2, 2]\n",
      "Pass\n",
      "[0, 0, 0, 0, 0, 0, 1, 1, 1, 1, 1, 1, 2, 2, 2, 2, 2, 2, 2]\n",
      "Pass\n",
      "================================= Edge Cases =================================\n",
      "[]\n",
      "Pass\n"
     ]
    }
   ],
   "source": [
    "def test_function(test_case):\n",
    "    sorted_array = sort_012(test_case)\n",
    "    print(sorted_array)\n",
    "    if sorted_array == sorted(test_case):\n",
    "        print(\"Pass\")\n",
    "    else:\n",
    "        print(\"Fail\")\n",
    "\n",
    "# Test Cases provided by Udacity\n",
    "print(\"================================= Normal Cases =================================\")\n",
    "test_function([0, 0, 2, 2, 2, 1, 1, 1, 2, 0, 2])\n",
    "test_function([2, 1, 2, 0, 0, 2, 1, 0, 1, 0, 0, 2, 2, 2, 1, 2, 0, 0, 0, 2, 1, 0, 2, 0, 0, 1])\n",
    "test_function([0, 0, 0, 0, 0, 0, 1, 1, 1, 1, 1, 1, 2, 2, 2, 2, 2, 2, 2])\n",
    "\n",
    "print(\"================================= Edge Cases =================================\")\n",
    "test_function([])"
   ]
  }
 ],
 "metadata": {
  "kernelspec": {
   "display_name": "Python (tensorflow_gpu)",
   "language": "python",
   "name": "myenv"
  },
  "language_info": {
   "codemirror_mode": {
    "name": "ipython",
    "version": 3
   },
   "file_extension": ".py",
   "mimetype": "text/x-python",
   "name": "python",
   "nbconvert_exporter": "python",
   "pygments_lexer": "ipython3",
   "version": "3.6.8"
  }
 },
 "nbformat": 4,
 "nbformat_minor": 2
}
