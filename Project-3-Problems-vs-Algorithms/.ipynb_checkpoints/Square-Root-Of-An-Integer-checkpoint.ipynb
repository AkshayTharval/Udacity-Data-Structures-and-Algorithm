{
 "cells": [
  {
   "cell_type": "code",
   "execution_count": 10,
   "metadata": {},
   "outputs": [],
   "source": [
    "import math\n",
    "def sqrt(number):\n",
    "    \"\"\"\n",
    "    Calculate the floored square root of a number\n",
    "\n",
    "    Args:\n",
    "       number(int): Number to find the floored squared root\n",
    "    Returns:\n",
    "       int: Floored Square Root\n",
    "    \"\"\"\n",
    "    \n",
    "    \"\"\"\n",
    "    Solution:\n",
    "    There are 2 cases to take care of, when a whole number is a perfect square root and when we need to find square\n",
    "    root between two numbers.\n",
    "    Eg. case1: sqrt(25) = 5\n",
    "    case2: sqrt(3) = 1.73205\n",
    "    \n",
    "    But since we are providing the floor value of square roots, we will be providing the number befire decimal.\n",
    "    Hence sqrt(3) will be 1.\n",
    "    \"\"\"\n",
    "    \n",
    "    # Base cases\n",
    "    if number == 0:\n",
    "        return 0\n",
    "    \n",
    "    if number == 1:\n",
    "        return 1\n",
    "    \n",
    "    # Edge cases where we can return an error if needed\n",
    "    if number == None:\n",
    "        print('Please enter a positive number')\n",
    "        return None\n",
    "    \n",
    "    if number < 0:\n",
    "        print('Please enter a positive number')\n",
    "        return None\n",
    "\n",
    "    output = 0\n",
    "    start = 0\n",
    "    end = number\n",
    "    while True:\n",
    "        \n",
    "        # Case 2:\n",
    "        # If we are within a difference of 1, return the floor number\n",
    "        if abs(start - end) == 1:\n",
    "            output = start\n",
    "            break\n",
    "        \n",
    "        mid = (start + end)//2\n",
    "\n",
    "        square = mid*mid\n",
    "        \n",
    "        # Case 1: We find a whole number which is a perfect sqrt of a number\n",
    "        if (square == number):\n",
    "            output = mid\n",
    "            break\n",
    "            \n",
    "        elif (square > number):\n",
    "            end = mid\n",
    "        \n",
    "        elif (square < number):\n",
    "            start = mid\n",
    "    \n",
    "    return output"
   ]
  },
  {
   "cell_type": "code",
   "execution_count": 14,
   "metadata": {},
   "outputs": [
    {
     "name": "stdout",
     "output_type": "stream",
     "text": [
      "=========================== Normal Cases ===============================\n",
      "Pass\n",
      "Pass\n",
      "Pass\n",
      "Pass\n",
      "Pass\n",
      "=========================== Edge Cases ===============================\n",
      "Please enter a positive number\n",
      "Pass\n",
      "Please enter a positive number\n",
      "Pass\n"
     ]
    }
   ],
   "source": [
    "# Test Cases provided by Udacity\n",
    "print(\"=========================== Normal Cases ===============================\")\n",
    "print (\"Pass\" if  (3 == sqrt(9)) else \"Fail\")\n",
    "print (\"Pass\" if  (0 == sqrt(0)) else \"Fail\")\n",
    "print (\"Pass\" if  (4 == sqrt(16)) else \"Fail\")\n",
    "print (\"Pass\" if  (1 == sqrt(1)) else \"Fail\")\n",
    "print (\"Pass\" if  (5 == sqrt(27)) else \"Fail\")\n",
    "\n",
    "# Edge Cases:\n",
    "print(\"=========================== Edge Cases ===============================\")\n",
    "print (\"Pass\" if  (None == sqrt(None)) else \"Fail\")\n",
    "print (\"Pass\" if  (None == sqrt(-2)) else \"Fail\")"
   ]
  }
 ],
 "metadata": {
  "kernelspec": {
   "display_name": "Python (tensorflow_gpu)",
   "language": "python",
   "name": "myenv"
  },
  "language_info": {
   "codemirror_mode": {
    "name": "ipython",
    "version": 3
   },
   "file_extension": ".py",
   "mimetype": "text/x-python",
   "name": "python",
   "nbconvert_exporter": "python",
   "pygments_lexer": "ipython3",
   "version": "3.6.8"
  }
 },
 "nbformat": 4,
 "nbformat_minor": 2
}
