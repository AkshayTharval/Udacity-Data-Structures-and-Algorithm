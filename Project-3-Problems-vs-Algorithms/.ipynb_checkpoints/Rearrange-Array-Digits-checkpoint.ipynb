{
 "cells": [
  {
   "cell_type": "code",
   "execution_count": 16,
   "metadata": {},
   "outputs": [],
   "source": [
    "\"\"\"\n",
    "After thinking and trying a few methods, following is the algorithm:\n",
    "1. Get frequency of every digit from 0 to 9\n",
    "2. Make two lists which will store the individual numbers 2 output numbers\n",
    "3. Go from 9 to 0, check if currently the numbers remaining to check in list are even or odd\n",
    "4. Alternate between number_1 and number_2 depending on even or odd remaining numbers in the list\n",
    "\"\"\"\n",
    "\n",
    "\n",
    "def rearrange_digits(input_list):\n",
    "    \"\"\"\n",
    "    Rearrange Array Elements so as to form two number such that their sum is maximum.\n",
    "\n",
    "    Args:\n",
    "       input_list(list): Input List\n",
    "    Returns:\n",
    "       (int),(int): Two maximum sums\n",
    "    \"\"\"\n",
    "    \n",
    "    len_input = len(input_list)\n",
    "    \n",
    "    # Edge case:\n",
    "    if len_input <= 1:\n",
    "        return [-1, -1]\n",
    "    \n",
    "    # Make a frequency list for numbers from 0 to 9\n",
    "    frequency_counter = [0] * 10\n",
    "    \n",
    "    # Depending on the numbers in input list, enter increase frequency of the respective indices\n",
    "    for num in input_list:\n",
    "        frequency_counter[num] += 1\n",
    "    \n",
    "    # Check if len of input list is even or odd\n",
    "    if len_input % 2 == 0:\n",
    "        even = 1\n",
    "    else:\n",
    "        even = 0\n",
    "    \n",
    "    # Output numbers\n",
    "    number_one = []\n",
    "    number_two = []\n",
    "    \n",
    "    for i in range(9,-1,-1):\n",
    "        # Loop till frequency is 0\n",
    "        while frequency_counter[i]:\n",
    "            # Alternate between even and odd\n",
    "            if even:\n",
    "                number_one.append(str(i))\n",
    "                even = 0\n",
    "            else:\n",
    "                number_two.append(str(i))\n",
    "                even = 1\n",
    "            # Reduce the frequency counter by 1\n",
    "            frequency_counter[i] -= 1\n",
    "    \n",
    "    # Join the numbers in the list to make a number\n",
    "    return [int(''.join(number_one)), int(''.join(number_two))]\n",
    "    \n",
    "    pass"
   ]
  },
  {
   "cell_type": "code",
   "execution_count": 29,
   "metadata": {},
   "outputs": [
    {
     "name": "stdout",
     "output_type": "stream",
     "text": [
      "================================= Normal Cases =================================\n",
      "Pass\n",
      "Pass\n",
      "================================= Edge Cases =================================\n",
      "Pass\n",
      "Pass\n"
     ]
    }
   ],
   "source": [
    "def test_function(test_case):\n",
    "    output = rearrange_digits(test_case[0])\n",
    "    solution = test_case[1]\n",
    "    if sum(output) == sum(solution):\n",
    "        print(\"Pass\")\n",
    "    else:\n",
    "        print(\"Fail\")\n",
    "\n",
    "# Test Cases provided by Udacity\n",
    "print(\"================================= Normal Cases =================================\")\n",
    "test_function([[1, 2, 3, 4, 5], [542, 31]])\n",
    "test_case = [[4, 6, 2, 5, 9, 8], [964, 852]]\n",
    "test_function(test_case)\n",
    "\n",
    "print(\"================================= Edge Cases =================================\")\n",
    "test_function([[], [-1, -1]])\n",
    "test_function([[0], [-1, -1]])"
   ]
  }
 ],
 "metadata": {
  "kernelspec": {
   "display_name": "Python (tensorflow_gpu)",
   "language": "python",
   "name": "myenv"
  },
  "language_info": {
   "codemirror_mode": {
    "name": "ipython",
    "version": 3
   },
   "file_extension": ".py",
   "mimetype": "text/x-python",
   "name": "python",
   "nbconvert_exporter": "python",
   "pygments_lexer": "ipython3",
   "version": "3.6.8"
  }
 },
 "nbformat": 4,
 "nbformat_minor": 2
}
