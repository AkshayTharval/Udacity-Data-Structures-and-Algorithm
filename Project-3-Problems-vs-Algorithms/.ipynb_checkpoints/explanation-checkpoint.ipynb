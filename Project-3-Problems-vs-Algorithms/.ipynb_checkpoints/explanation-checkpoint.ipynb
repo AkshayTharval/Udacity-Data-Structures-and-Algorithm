{
 "cells": [
  {
   "cell_type": "markdown",
   "metadata": {},
   "source": [
    "# Project 3: Problems vs Algorithms"
   ]
  },
  {
   "cell_type": "markdown",
   "metadata": {},
   "source": [
    "## Problem 1: Square Root of an Integer\n",
    "\n",
    "### Explanation:\n",
    "There are 2 cases to take care of, when a whole number is a perfect square root and when we need to find square\n",
    "root between two numbers.\n",
    "Eg. case1: sqrt(25) = 5\n",
    "case2: sqrt(3) = 1.73205\n",
    "\n",
    "But since we are providing the floor value of square roots, we will be providing the number befire decimal.\n",
    "Hence sqrt(3) will be 1.\n",
    "\n",
    "### Complexity:\n",
    "As mentioned in the problem, complexity is O(logn) as we use sort of binary search algorithm."
   ]
  },
  {
   "cell_type": "markdown",
   "metadata": {},
   "source": [
    "## Problem 2: Search in a Rotated Sorted Array\n",
    "\n",
    "### Explanation:\n",
    "Method 1: Sort the list and then use binary search\n",
    "Complexity: O(n * log n) + O(log n) which will be O(n * log n)\n",
    "Its specifically mentioned that this should take O(log n)\n",
    "Method 2: Finding the index where the rotation begins\n",
    "And then dividing the list into two parts and performing binary search on one of them\n",
    "\n",
    "### Complexity:\n",
    "As mentioned in the problem, complexity is O(logn) as we use binary search after dividing the list into 2 parts."
   ]
  },
  {
   "cell_type": "markdown",
   "metadata": {},
   "source": [
    "## Problem 3: Rearrange Array Digits\n",
    "\n",
    "### Explanation:\n",
    "After thinking and trying a few methods, following is the algorithm:\n",
    "1. Get frequency of every digit from 0 to 9\n",
    "2. Make two lists which will store the individual numbers 2 output numbers\n",
    "3. Go from 9 to 0, check if currently the numbers remaining to check in list are even or odd\n",
    "4. Alternate between number_1 and number_2 depending on even or odd remaining numbers in the list\n",
    "\n",
    "### Complexity:\n",
    "As mentioned in the problem, worst case complexity is O(nlogn) as the algorithm used is similar to that of merge sort."
   ]
  },
  {
   "cell_type": "markdown",
   "metadata": {},
   "source": [
    "## Problem 4: Dutch National Flag Problem\n",
    "\n",
    "### Explanation:\n",
    "Here we simply keep a counter of number of 0s, 1s and 2s\n",
    "Output list will contain the appropriate number of 0s, 1s and 2s\n",
    "Since we are going throug the list only once, the complexity is O(n)\n",
    "\n",
    "### Complexity:\n",
    "Since the numbers are only 0,1,2, we can control the complexity of O(n) with this method"
   ]
  },
  {
   "cell_type": "markdown",
   "metadata": {},
   "source": [
    "## Problem 5: Autocomplete with Tries\n",
    "\n",
    "### Explanation:\n",
    "Trie and TrieNode classes are similar to that of we had in exercise.\n",
    "TrieNode has an extra function of suffix where we loop through the input string by each char and output a list of list which has all possible combination after the suffix\n",
    "\n",
    "### Complexity:\n",
    "Since we are going through the string by each char and then going through every possible child, the complexity will be O(a * n) where n is the number of chars and a is the number of words"
   ]
  },
  {
   "cell_type": "markdown",
   "metadata": {},
   "source": [
    "## Problem 6: Unsorted Integer Array\n",
    "\n",
    "### Explanation:\n",
    "We keep a track of min and max while looping through all the numbers in the list\n",
    "\n",
    "### Complexity:\n",
    "We loop through the list only once, hence complexity is O(n)"
   ]
  },
  {
   "cell_type": "markdown",
   "metadata": {},
   "source": [
    "## Problem 7: Request Routing in a Web Server with a Trie\n",
    "\n",
    "### Explanation:\n",
    "This problem is similar to problem 5 with addition of error_handler and spliting the path. Working directory construction makes more sense with a very efficient Trie data structure.\n",
    "\n",
    "### Complexity:\n",
    "Complexity for search and insert depends on the path string. Specifically number of '/' which denotes the new directory. Hence the complexity will be O(n) where n is the number of directories (separated by '/')."
   ]
  }
 ],
 "metadata": {
  "kernelspec": {
   "display_name": "Python (tensorflow_gpu)",
   "language": "python",
   "name": "myenv"
  },
  "language_info": {
   "codemirror_mode": {
    "name": "ipython",
    "version": 3
   },
   "file_extension": ".py",
   "mimetype": "text/x-python",
   "name": "python",
   "nbconvert_exporter": "python",
   "pygments_lexer": "ipython3",
   "version": "3.6.8"
  }
 },
 "nbformat": 4,
 "nbformat_minor": 2
}
