{
 "cells": [
  {
   "cell_type": "code",
   "execution_count": 19,
   "metadata": {},
   "outputs": [
    {
     "name": "stdout",
     "output_type": "stream",
     "text": [
      "(080)33251027 spent the longest time, 90456 seconds, on the phone during\n"
     ]
    }
   ],
   "source": [
    "\"\"\"\n",
    "Read file into texts and calls.\n",
    "It's ok if you don't understand how to read files\n",
    "\"\"\"\n",
    "import csv\n",
    "with open('texts.csv', 'r') as f:\n",
    "    reader = csv.reader(f)\n",
    "    texts = list(reader)\n",
    "\n",
    "with open('calls.csv', 'r') as f:\n",
    "    reader = csv.reader(f)\n",
    "    calls = list(reader)\n",
    "\n",
    "\"\"\"\n",
    "TASK 2: Which telephone number spent the longest time on the phone\n",
    "during the period? Don't forget that time spent answering a call is\n",
    "also time spent on the phone.\n",
    "Print a message:\n",
    "\"<telephone number> spent the longest time, <total time> seconds, on the phone during \n",
    "September 2016.\".\n",
    "\"\"\"\n",
    "max_time = 0\n",
    "telephone_dict = {}\n",
    "\n",
    "for calls_info in calls:\n",
    "    if (calls_info[0] in telephone_dict) and (calls_info[1] in telephone_dict):\n",
    "        telephone_dict[calls_info[0]] += int(calls_info[3])\n",
    "        telephone_dict[calls_info[1]] += int(calls_info[3])\n",
    "    elif (calls_info[0] in telephone_dict) and (calls_info[1] not in telephone_dict):\n",
    "        telephone_dict[calls_info[0]] += int(calls_info[3])\n",
    "        telephone_dict[calls_info[1]] = int(calls_info[3])\n",
    "    elif (calls_info[0] not in telephone_dict) and (calls_info[1] in telephone_dict):\n",
    "        telephone_dict[calls_info[0]] = int(calls_info[3])\n",
    "        telephone_dict[calls_info[1]] += int(calls_info[3])\n",
    "    else:\n",
    "        telephone_dict[calls_info[0]] = int(calls_info[3])\n",
    "        telephone_dict[calls_info[1]] = int(calls_info[3])\n",
    "    \n",
    "for key in telephone_dict.keys():\n",
    "    if telephone_dict[key] > max_time:\n",
    "        max_time = telephone_dict[key]\n",
    "        required_telephone_number = key\n",
    "\n",
    "print(\"{} spent the longest time, {} seconds, on the phone during\".format(required_telephone_number, max_time))"
   ]
  },
  {
   "cell_type": "code",
   "execution_count": null,
   "metadata": {},
   "outputs": [],
   "source": [
    "telephone_dict"
   ]
  },
  {
   "cell_type": "code",
   "execution_count": null,
   "metadata": {},
   "outputs": [],
   "source": [
    "89071 50880 spent the longest time, 4617 seconds, on the phone during"
   ]
  },
  {
   "cell_type": "code",
   "execution_count": null,
   "metadata": {},
   "outputs": [],
   "source": [
    "99612 41256 spent the longest time, 4514 seconds, on the phone during"
   ]
  },
  {
   "cell_type": "code",
   "execution_count": 8,
   "metadata": {},
   "outputs": [
    {
     "name": "stdout",
     "output_type": "stream",
     "text": [
      "<class 'str'>\n"
     ]
    },
    {
     "ename": "KeyError",
     "evalue": "'78130 00821'",
     "output_type": "error",
     "traceback": [
      "\u001b[1;31m---------------------------------------------------------------------------\u001b[0m",
      "\u001b[1;31mKeyError\u001b[0m                                  Traceback (most recent call last)",
      "\u001b[1;32m<ipython-input-8-b606f5315799>\u001b[0m in \u001b[0;36m<module>\u001b[1;34m\u001b[0m\n\u001b[0;32m      5\u001b[0m     \u001b[1;32mfor\u001b[0m \u001b[0mcall_element\u001b[0m \u001b[1;32min\u001b[0m \u001b[1;33m[\u001b[0m\u001b[1;36m0\u001b[0m\u001b[1;33m,\u001b[0m \u001b[1;36m1\u001b[0m\u001b[1;33m]\u001b[0m\u001b[1;33m:\u001b[0m\u001b[1;33m\u001b[0m\u001b[1;33m\u001b[0m\u001b[0m\n\u001b[0;32m      6\u001b[0m         \u001b[0mprint\u001b[0m\u001b[1;33m(\u001b[0m\u001b[0mtype\u001b[0m\u001b[1;33m(\u001b[0m\u001b[0mcall\u001b[0m\u001b[1;33m[\u001b[0m\u001b[0mcall_element\u001b[0m\u001b[1;33m]\u001b[0m\u001b[1;33m)\u001b[0m\u001b[1;33m)\u001b[0m\u001b[1;33m\u001b[0m\u001b[1;33m\u001b[0m\u001b[0m\n\u001b[1;32m----> 7\u001b[1;33m         \u001b[0mtelephone_time\u001b[0m\u001b[1;33m[\u001b[0m\u001b[0mcall\u001b[0m\u001b[1;33m[\u001b[0m\u001b[0mcall_element\u001b[0m\u001b[1;33m]\u001b[0m\u001b[1;33m]\u001b[0m \u001b[1;33m+=\u001b[0m \u001b[0mint\u001b[0m\u001b[1;33m(\u001b[0m\u001b[0mcall\u001b[0m\u001b[1;33m[\u001b[0m\u001b[1;36m3\u001b[0m\u001b[1;33m]\u001b[0m\u001b[1;33m)\u001b[0m\u001b[1;33m\u001b[0m\u001b[1;33m\u001b[0m\u001b[0m\n\u001b[0m\u001b[0;32m      8\u001b[0m \u001b[1;33m\u001b[0m\u001b[0m\n\u001b[0;32m      9\u001b[0m \u001b[0mmax_call_time\u001b[0m \u001b[1;33m=\u001b[0m \u001b[1;36m0\u001b[0m\u001b[1;33m\u001b[0m\u001b[1;33m\u001b[0m\u001b[0m\n",
      "\u001b[1;31mKeyError\u001b[0m: '78130 00821'"
     ]
    }
   ],
   "source": [
    "from collections import defaultdict\n",
    "\n",
    "telephone_time = dict()\n",
    "for call in calls:\n",
    "    for call_element in [0, 1]:\n",
    "        print(call[call_element])\n",
    "        telephone_time[call[call_element]] += int(call[3])\n",
    "\n",
    "max_call_time = 0\n",
    "max_telephone_num = ''\n",
    "\n",
    "for telephone in telephone_time:\n",
    "    if telephone_time[telephone] >= max_call_time:\n",
    "        max_call_time = telephone_time[telephone]\n",
    "        max_telephone_num = telephone\n",
    "\n",
    "print(\"{} spent the longest time, {} seconds, on the phone during September 2016.\".format(\n",
    "    max_telephone_num, max_call_time))"
   ]
  },
  {
   "cell_type": "code",
   "execution_count": 10,
   "metadata": {},
   "outputs": [
    {
     "data": {
      "text/plain": [
       "['78130 00821', '98453 94494', '01-09-2016 06:01:12', '186']"
      ]
     },
     "execution_count": 10,
     "metadata": {},
     "output_type": "execute_result"
    }
   ],
   "source": [
    "call"
   ]
  },
  {
   "cell_type": "code",
   "execution_count": null,
   "metadata": {},
   "outputs": [],
   "source": []
  },
  {
   "cell_type": "code",
   "execution_count": 6,
   "metadata": {},
   "outputs": [
    {
     "data": {
      "text/plain": [
       "186"
      ]
     },
     "execution_count": 6,
     "metadata": {},
     "output_type": "execute_result"
    }
   ],
   "source": [
    "int(calls[0][3])"
   ]
  }
 ],
 "metadata": {
  "kernelspec": {
   "display_name": "Python (tensorflow_gpu)",
   "language": "python",
   "name": "myenv"
  },
  "language_info": {
   "codemirror_mode": {
    "name": "ipython",
    "version": 3
   },
   "file_extension": ".py",
   "mimetype": "text/x-python",
   "name": "python",
   "nbconvert_exporter": "python",
   "pygments_lexer": "ipython3",
   "version": "3.6.8"
  }
 },
 "nbformat": 4,
 "nbformat_minor": 2
}
