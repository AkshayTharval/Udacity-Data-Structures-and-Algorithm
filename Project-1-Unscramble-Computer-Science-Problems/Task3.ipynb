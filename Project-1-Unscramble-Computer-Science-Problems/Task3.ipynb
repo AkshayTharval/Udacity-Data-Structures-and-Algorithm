{
 "cells": [
  {
   "cell_type": "code",
   "execution_count": 16,
   "metadata": {
    "scrolled": true
   },
   "outputs": [
    {
     "name": "stdout",
     "output_type": "stream",
     "text": [
      "The numbers called by people in Bangalore have codes:\n",
      "022\n",
      "040\n",
      "04344\n",
      "044\n",
      "04546\n",
      "0471\n",
      "080\n",
      "0821\n",
      "7406\n",
      "7795\n",
      "7813\n",
      "7829\n",
      "8151\n",
      "8152\n",
      "8301\n",
      "8431\n",
      "8714\n",
      "9008\n",
      "9019\n",
      "9035\n",
      "9036\n",
      "9241\n",
      "9242\n",
      "9341\n",
      "9342\n",
      "9343\n",
      "9400\n",
      "9448\n",
      "9449\n",
      "9526\n",
      "9656\n",
      "9738\n",
      "9740\n",
      "9741\n",
      "9742\n",
      "9844\n",
      "9845\n",
      "9900\n",
      "9961\n",
      "24.81 percent of calls from fixed lines in Bangalore are calls to other fixed lines in Bangalore.\n"
     ]
    }
   ],
   "source": [
    "\"\"\"\n",
    "Read file into texts and calls.\n",
    "It's ok if you don't understand how to read files.\n",
    "\"\"\"\n",
    "import csv\n",
    "\n",
    "with open('texts.csv', 'r') as f:\n",
    "    reader = csv.reader(f)\n",
    "    texts = list(reader)\n",
    "\n",
    "with open('calls.csv', 'r') as f:\n",
    "    reader = csv.reader(f)\n",
    "    calls = list(reader)\n",
    "\n",
    "\"\"\"\n",
    "TASK 3:\n",
    "(080) is the area code for fixed line telephones in Bangalore.\n",
    "Fixed line numbers include parentheses, so Bangalore numbers\n",
    "have the form (080)xxxxxxx.)\n",
    "\n",
    "Part A: Find all of the area codes and mobile prefixes called by people\n",
    "in Bangalore.\n",
    " - Fixed lines start with an area code enclosed in brackets. The area\n",
    "   codes vary in length but always begin with 0.\n",
    " - Mobile numbers have no parentheses, but have a space in the middle\n",
    "   of the number to help readability. The prefix of a mobile number\n",
    "   is its first four digits, and they always start with 7, 8 or 9.\n",
    " - Telemarketers' numbers have no parentheses or space, but they start\n",
    "   with the area code 140.\n",
    "\n",
    "Print the answer as part of a message:\n",
    "\"The numbers called by people in Bangalore have codes:\"\n",
    " <list of codes>\n",
    "The list of codes should be print out one per line in lexicographic order with no duplicates.\n",
    "\n",
    "Part B: What percentage of calls from fixed lines in Bangalore are made\n",
    "to fixed lines also in Bangalore? In other words, of all the calls made\n",
    "from a number starting with \"(080)\", what percentage of these calls\n",
    "were made to a number also starting with \"(080)\"?\n",
    "\n",
    "Print the answer as a part of a message::\n",
    "\"<percentage> percent of calls from fixed lines in Bangalore are calls\n",
    "to other fixed lines in Bangalore.\"\n",
    "The percentage should have 2 decimal digits\n",
    "\"\"\"\n",
    "\n",
    "area_codes_set = set()\n",
    "fixed_line_call_banglore_count = 0\n",
    "banglore_call = 0\n",
    "\n",
    "for calls_info in calls:\n",
    "    if calls_info[0].startswith('(080)'):\n",
    "        # Counting all calls originating from banglore\n",
    "        banglore_call += 1\n",
    "        # Calls going to fixed line from banglore\n",
    "        if calls_info[1].startswith('('):\n",
    "            area_codes_set.add(calls_info[1][calls_info[1].find(\"(\")+1:calls_info[1].find(\")\")])\n",
    "        \n",
    "        # Calls going to mobile phones from banglore\n",
    "        if calls_info[1][int(len(calls_info[1])/2)] == ' ' and calls_info[1].startswith(('7', '8', '9')):\n",
    "            area_codes_set.add(calls_info[1][0:4])\n",
    "        \n",
    "        # Calls going to telemarketers\n",
    "        if calls_info[1].startswith('140'):\n",
    "            area_codes_set.add('140')\n",
    "            \n",
    "        if calls_info[1].startswith('(080)'):\n",
    "            fixed_line_call_banglore_count += 1\n",
    "        \n",
    "        \n",
    "        \n",
    "area_codes_set = sorted(area_codes_set)\n",
    "print('The numbers called by people in Bangalore have codes:')\n",
    "for code in area_codes_set:\n",
    "    print(code)\n",
    "            \n",
    "print('{} percent of calls from fixed lines in Bangalore are calls to other fixed lines in Bangalore.'.format(round(fixed_line_call_banglore_count*100/banglore_call, 2)))"
   ]
  },
  {
   "cell_type": "code",
   "execution_count": 12,
   "metadata": {},
   "outputs": [
    {
     "data": {
      "text/plain": [
       "True"
      ]
     },
     "execution_count": 12,
     "metadata": {},
     "output_type": "execute_result"
    }
   ],
   "source": [
    "s = '20166 50654'\n",
    "s[int(len(s)/2)] == ' '\n",
    "# s[s.find(\"(\")+1:s.find(\")\")]\n",
    "# s[0:4]"
   ]
  }
 ],
 "metadata": {
  "kernelspec": {
   "display_name": "Python (tensorflow_gpu)",
   "language": "python",
   "name": "myenv"
  },
  "language_info": {
   "codemirror_mode": {
    "name": "ipython",
    "version": 3
   },
   "file_extension": ".py",
   "mimetype": "text/x-python",
   "name": "python",
   "nbconvert_exporter": "python",
   "pygments_lexer": "ipython3",
   "version": "3.6.8"
  }
 },
 "nbformat": 4,
 "nbformat_minor": 2
}
