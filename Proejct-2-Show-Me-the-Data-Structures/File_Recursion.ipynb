{
 "cells": [
  {
   "cell_type": "code",
   "execution_count": 13,
   "metadata": {},
   "outputs": [
    {
     "name": "stdout",
     "output_type": "stream",
     "text": [
      "['t1.c', 'a.c', 'b.c', 'a.c']\n",
      "['t1.h', 'a.h', 'b.h', 'a.h']\n",
      "[]\n",
      "Please enter a valid suffix\n",
      "[]\n"
     ]
    }
   ],
   "source": [
    "import os\n",
    "\n",
    "def find_files(suffix, path):\n",
    "    \"\"\"\n",
    "    Find all files beneath path with file name suffix.\n",
    "\n",
    "    Note that a path may contain further subdirectories\n",
    "    and those subdirectories may also contain further subdirectories.\n",
    "\n",
    "    There are no limit to the depth of the subdirectories can be.\n",
    "\n",
    "    Args:\n",
    "      suffix(str): suffix if the file name to be found\n",
    "      path(str): path of the file system\n",
    "\n",
    "    Returns:\n",
    "       a list of paths\n",
    "    \"\"\"\n",
    "    # In case suffix entered is empty string\n",
    "    # We can raise an error as well if needed\n",
    "    if suffix == '':\n",
    "        print('Please enter a valid suffix')\n",
    "        return []\n",
    "    \n",
    "    if len(os.listdir(path)) == 0: # Base condition during recursion\n",
    "        return []\n",
    "    \n",
    "    files = [_ for _ in os.listdir(path) if '.' + suffix in _]\n",
    "    folders = [_ for _ in os.listdir(path) if '.' not in _]\n",
    "\n",
    "    # Recursively calling to check folders\n",
    "    for folder in folders:\n",
    "        files.extend(find_files(suffix, os.path.join(path + '\\\\' + folder)))\n",
    "        # We can remove os.path.join(...), still works fine\n",
    "    \n",
    "    return files\n",
    "\n",
    "parent_path = os.getcwd() + '\\\\testdir'\n",
    "\n",
    "# Test as mentioned in the problem statement\n",
    "print(find_files(suffix='c', path=parent_path))\n",
    "# Output: ['t1.c', 'a.c', 'a.c', 'b.c']\n",
    "\n",
    "# Self test #1\n",
    "print(find_files(suffix='h', path=parent_path))\n",
    "# Output: ['t1.h', 'a.h', 'a.h', 'b.h']\n",
    "\n",
    "# Self test #2\n",
    "print(find_files(suffix='a', path=parent_path))\n",
    "# Output: []\n",
    "\n",
    "# Self test #3 (Edge case)\n",
    "print(find_files(suffix='', path=parent_path))\n",
    "# Output: Please enter a valid suffix\n",
    "# Output: []"
   ]
  },
  {
   "cell_type": "code",
   "execution_count": null,
   "metadata": {},
   "outputs": [],
   "source": []
  }
 ],
 "metadata": {
  "kernelspec": {
   "display_name": "Python (tensorflow_gpu)",
   "language": "python",
   "name": "myenv"
  },
  "language_info": {
   "codemirror_mode": {
    "name": "ipython",
    "version": 3
   },
   "file_extension": ".py",
   "mimetype": "text/x-python",
   "name": "python",
   "nbconvert_exporter": "python",
   "pygments_lexer": "ipython3",
   "version": "3.6.8"
  }
 },
 "nbformat": 4,
 "nbformat_minor": 2
}
