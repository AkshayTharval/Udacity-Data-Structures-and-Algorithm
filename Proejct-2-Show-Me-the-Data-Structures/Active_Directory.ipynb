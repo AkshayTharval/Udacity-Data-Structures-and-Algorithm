{
 "cells": [
  {
   "cell_type": "code",
   "execution_count": 1,
   "metadata": {},
   "outputs": [
    {
     "name": "stdout",
     "output_type": "stream",
     "text": [
      "False\n",
      "False\n",
      "True \n",
      "\n",
      "False\n"
     ]
    }
   ],
   "source": [
    "class Group(object):\n",
    "    def __init__(self, _name):\n",
    "        self.name = _name\n",
    "        self.groups = []\n",
    "        self.users = []\n",
    "\n",
    "    def add_group(self, group):\n",
    "        self.groups.append(group)\n",
    "\n",
    "    def add_user(self, user):\n",
    "        self.users.append(user)\n",
    "\n",
    "    def get_groups(self):\n",
    "        return self.groups\n",
    "\n",
    "    def get_users(self):\n",
    "        return self.users\n",
    "\n",
    "    def get_name(self):\n",
    "        return self.name\n",
    "    \n",
    "def is_user_in_group(user, group):\n",
    "    \"\"\"\n",
    "    Return True if user is in the group, False otherwise.\n",
    "\n",
    "    Args:\n",
    "      user(str): user name/id\n",
    "      group(class:Group): group to check user membership against\n",
    "    \"\"\"\n",
    "    \n",
    "    if user in group.get_users(): # Found the user as an individual user in the group\n",
    "        return True\n",
    "    else: # There is a possibility that user might be a part of sub-group\n",
    "        if len(group.get_groups()) == 0: # If there are no subgroups in the current group, return False\n",
    "            return False\n",
    "        else:\n",
    "            \n",
    "            for single_group in group.get_groups():\n",
    "                # Recursively call the same function till we exhaust all the sub-groups\n",
    "                if is_user_in_group(user, single_group):\n",
    "                    return True\n",
    "    \n",
    "    return False\n",
    "\n",
    "# As given in the problem statement\n",
    "parent = Group(\"parent\")\n",
    "child = Group(\"child\")\n",
    "sub_child = Group(\"subchild\")\n",
    "\n",
    "sub_child_user = \"sub_child_user\"\n",
    "sub_child.add_user(sub_child_user)\n",
    "\n",
    "child.add_group(sub_child)\n",
    "parent.add_group(child)\n",
    "\n",
    "# Self test #1\n",
    "print(is_user_in_group(user='parent_user', group=parent))\n",
    "# Output: False\n",
    "\n",
    "# Self test #2\n",
    "print(is_user_in_group(user='child_user', group=parent))\n",
    "# Output: False\n",
    "\n",
    "# Self test #3\n",
    "print(is_user_in_group(user='sub_child_user', group=parent), '\\n')\n",
    "# Output: True\n",
    "\n",
    "# Self test #4 : Entering empty string\n",
    "print(is_user_in_group(user='', group=parent))\n",
    "# Output: False"
   ]
  },
  {
   "cell_type": "code",
   "execution_count": 6,
   "metadata": {},
   "outputs": [],
   "source": []
  },
  {
   "cell_type": "code",
   "execution_count": 8,
   "metadata": {},
   "outputs": [
    {
     "name": "stdout",
     "output_type": "stream",
     "text": [
      "False\n",
      "False\n",
      "True \n",
      "\n",
      "False\n"
     ]
    }
   ],
   "source": []
  }
 ],
 "metadata": {
  "kernelspec": {
   "display_name": "Python (tensorflow_gpu)",
   "language": "python",
   "name": "myenv"
  },
  "language_info": {
   "codemirror_mode": {
    "name": "ipython",
    "version": 3
   },
   "file_extension": ".py",
   "mimetype": "text/x-python",
   "name": "python",
   "nbconvert_exporter": "python",
   "pygments_lexer": "ipython3",
   "version": "3.6.8"
  }
 },
 "nbformat": 4,
 "nbformat_minor": 2
}
